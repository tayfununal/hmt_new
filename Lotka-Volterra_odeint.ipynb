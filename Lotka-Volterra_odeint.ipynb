{
 "cells": [
  {
   "cell_type": "code",
   "execution_count": null,
   "metadata": {},
   "outputs": [],
   "source": [
    "from scipy import integrate\n",
    "import numpy as np"
   ]
  },
  {
   "cell_type": "code",
   "execution_count": 2,
   "metadata": {},
   "outputs": [],
   "source": [
    "def lotka_volterra(alpha, beta, delta, gamma, x0, y0, t_interval, h):\n",
    "\n",
    "    def derivative(X, t, alpha, beta, delta, gamma):\n",
    "        x, y = X\n",
    "        dotx = x * (alpha - beta * y)\n",
    "        doty = y * (delta * x - gamma)\n",
    "        return np.array([dotx, doty])\n",
    "\n",
    "    t = np.linspace(t_interval[0], t_interval[1], h)\n",
    "    X0 = [x0, y0]\n",
    "    res = integrate.odeint(derivative, X0, t, args = (alpha, beta, delta, gamma))\n",
    "    x, y = res.T\n",
    "    return x, y"
   ]
  }
 ],
 "metadata": {
  "kernelspec": {
   "display_name": "Python 3.10.5 64-bit",
   "language": "python",
   "name": "python3"
  },
  "language_info": {
   "codemirror_mode": {
    "name": "ipython",
    "version": 3
   },
   "file_extension": ".py",
   "mimetype": "text/x-python",
   "name": "python",
   "nbconvert_exporter": "python",
   "pygments_lexer": "ipython3",
   "version": "3.10.5"
  },
  "orig_nbformat": 4,
  "vscode": {
   "interpreter": {
    "hash": "d9cb76912a2c5be82dcfe6128b100f744e99764f9edd0e9b558a5e3f5600e50b"
   }
  }
 },
 "nbformat": 4,
 "nbformat_minor": 2
}
