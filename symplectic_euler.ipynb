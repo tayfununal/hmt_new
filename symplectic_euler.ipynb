{
  "cells": [
    {
      "cell_type": "code",
      "execution_count": 53,
      "id": "8c9ba390",
      "metadata": {
        "id": "8c9ba390"
      },
      "outputs": [],
      "source": [
        "# Required packages\n",
        "import numpy as np\n",
        "import tensorflow as tf\n",
        "import matplotlib.pyplot as plt\n",
        "\n",
        "plt.style.use('seaborn-poster')"
      ]
    },
    {
      "cell_type": "code",
      "execution_count": 54,
      "id": "542c6864",
      "metadata": {
        "id": "542c6864"
      },
      "outputs": [],
      "source": [
        "def symplectic_euler(T, V, initial_point=[0., 1.], t_interval=[0.,1.], h=20):\n",
        "\n",
        "    t = np.linspace(t_interval[0], t_interval[1], h)\n",
        "    \n",
        "    h = t[1]-t[0] \n",
        "    \n",
        "    q = np.zeros(t.shape[0])\n",
        "    p = np.zeros(t.shape[0])\n",
        "    \n",
        "    q[0] = initial_point[0]\n",
        "    p[0] = initial_point[1]\n",
        "    \n",
        "    # Derivative of Potential Energy\n",
        "    def dV(q_0=tf.constant(1.0)):\n",
        "        q_0 = tf.constant(q_0)\n",
        "        with tf.GradientTape() as g:\n",
        "            g.watch(q_0)\n",
        "            y = V(q_0)\n",
        "        return g.gradient(y, q_0)\n",
        "\n",
        "    # Derivative of Kinetic Energy\n",
        "    def dT(p_0=tf.constant(1.0)):\n",
        "        p_0 = tf.constant(p_0)\n",
        "        with tf.GradientTape() as g:\n",
        "            g.watch(p_0)\n",
        "            y = T(p_0)\n",
        "        return g.gradient(y, p_0)\n",
        "\n",
        "    for i in range(0, t.shape[0]-1):\n",
        "\n",
        "        q[i + 1] = q[i] + h * dT(p[i])\n",
        "        p[i + 1] = p[i] - h * dV(q[i+1])\n",
        "\n",
        "    z = np.concatenate((q.reshape(-1,1), p.reshape(-1,1)) , axis=1)\n",
        "    return T, V, z, t, t_interval, initial_point, h"
      ]
    },
    {
      "cell_type": "code",
      "execution_count": null,
      "id": "fabcce0a",
      "metadata": {
        "colab": {
          "base_uri": "https://localhost:8080/",
          "height": 35
        },
        "id": "fabcce0a",
        "outputId": "b4e92ae2-626f-427c-b6a2-9d33caeb7a6c"
      },
      "outputs": [],
      "source": [
        "# Harmonic-Oscillator example\n",
        "\"\"\"\n",
        "def T(p):\n",
        "    return (p**2)/2\n",
        "\n",
        "def V(q):\n",
        "    return (q**2)/2\n",
        "\n",
        "T, V, z, t, t_interval, initial_point, h = symplectic_euler(T, V, initial_point=[0.,1.], h=20)\n",
        "\n",
        "plt.figure(figsize = (4, 4))\n",
        "plt.plot(z[:,0], z[:,1])\n",
        "\"\"\""
      ]
    },
    {
      "cell_type": "code",
      "execution_count": null,
      "id": "9becbd80",
      "metadata": {},
      "outputs": [],
      "source": []
    }
  ],
  "metadata": {
    "colab": {
      "provenance": []
    },
    "kernelspec": {
      "display_name": "Python 3.10.5 64-bit",
      "language": "python",
      "name": "python3"
    },
    "language_info": {
      "codemirror_mode": {
        "name": "ipython",
        "version": 3
      },
      "file_extension": ".py",
      "mimetype": "text/x-python",
      "name": "python",
      "nbconvert_exporter": "python",
      "pygments_lexer": "ipython3",
      "version": "3.10.5"
    },
    "vscode": {
      "interpreter": {
        "hash": "d9cb76912a2c5be82dcfe6128b100f744e99764f9edd0e9b558a5e3f5600e50b"
      }
    }
  },
  "nbformat": 4,
  "nbformat_minor": 5
}
