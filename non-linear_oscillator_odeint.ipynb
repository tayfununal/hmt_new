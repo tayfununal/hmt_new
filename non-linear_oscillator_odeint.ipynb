{
 "cells": [
  {
   "cell_type": "code",
   "execution_count": 3,
   "metadata": {},
   "outputs": [],
   "source": [
    "from scipy import integrate\n",
    "import numpy as np"
   ]
  },
  {
   "cell_type": "code",
   "execution_count": 4,
   "metadata": {},
   "outputs": [],
   "source": [
    "def non_os_odeint(initial_point, t):\n",
    "\n",
    "    def derivative(X, t):\n",
    "        q ,p = X\n",
    "        dq = p\n",
    "        dp = -(q + q**3)\n",
    "        return np.array([dq, dp])\n",
    "        \n",
    "    res = integrate.odeint(derivative, initial_point, t)\n",
    "    return res"
   ]
  }
 ],
 "metadata": {
  "kernelspec": {
   "display_name": "Python 3.10.5 64-bit",
   "language": "python",
   "name": "python3"
  },
  "language_info": {
   "codemirror_mode": {
    "name": "ipython",
    "version": 3
   },
   "file_extension": ".py",
   "mimetype": "text/x-python",
   "name": "python",
   "nbconvert_exporter": "python",
   "pygments_lexer": "ipython3",
   "version": "3.10.5"
  },
  "orig_nbformat": 4,
  "vscode": {
   "interpreter": {
    "hash": "d9cb76912a2c5be82dcfe6128b100f744e99764f9edd0e9b558a5e3f5600e50b"
   }
  }
 },
 "nbformat": 4,
 "nbformat_minor": 2
}
