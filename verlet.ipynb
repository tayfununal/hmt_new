{
  "cells": [
    {
      "cell_type": "markdown",
      "metadata": {
        "id": "view-in-github",
        "colab_type": "text"
      },
      "source": [
        "<a href=\"https://colab.research.google.com/github/tayfununal/hmt_new/blob/main/verlet.ipynb\" target=\"_parent\"><img src=\"https://colab.research.google.com/assets/colab-badge.svg\" alt=\"Open In Colab\"/></a>"
      ]
    },
    {
      "cell_type": "code",
      "execution_count": null,
      "metadata": {
        "id": "JxI2-moK9dcZ"
      },
      "outputs": [],
      "source": [
        "#verlet\n",
        "import numpy as np\n",
        "import matplotlib.pyplot as plt\n",
        "import tensorflow as tf\n",
        "\n",
        "plt.style.use('seaborn-poster')\n",
        "#plt.style.use(\"seaborn-v0_8\")"
      ]
    },
    {
      "cell_type": "code",
      "execution_count": null,
      "metadata": {
        "id": "z4-ySD6H9KqX"
      },
      "outputs": [],
      "source": [
        "\"\"\"\n",
        "def verlet(initial_point=[0., 1.], t_interval=[0.,2*np.math.pi], h=20):\n",
        "  t = np.linspace(t_interval[0], t_interval[1], h)\n",
        "  h = t[1] - t[0]\n",
        "\n",
        "  q = np.zeros(t.shape[0])\n",
        "  p = np.zeros(t.shape[0])\n",
        "\n",
        "  q[0] = initial_point[0]\n",
        "  p[0] = initial_point[1]\n",
        "  \n",
        "  for i in range(0 ,t.shape[0]-1):\n",
        "    ara_p = p[i] - h/2 * q[i]\n",
        "\n",
        "    q[i+1] = q[i] + h * (p[i] - h/2 * q[i])\n",
        "\n",
        "    p[i+1] = ara_p - h/2 * (q[i] + h * (p[i] - h/2 * q[i]))\n",
        "  \n",
        "  z = np.concatenate((q.reshape(-1,1), p.reshape(-1,1)) , axis=1)\n",
        "  return z, t, t_interval, initial_point, h\n",
        "\"\"\""
      ]
    },
    {
      "cell_type": "code",
      "execution_count": null,
      "metadata": {
        "id": "u3tQbFBR9ssw"
      },
      "outputs": [],
      "source": [
        "\"\"\"\"\n",
        "z, t, t_interval, initial_point, h = verlet()\n",
        "\n",
        "def grand_truth_plot(h = 30):\n",
        "  t = np.linspace(0,2*np.pi,h)\n",
        "  q = np.sin(t)\n",
        "  p = np.cos(t)\n",
        "  plt.scatter(q,p)\n",
        "\n",
        "def pred_plot(q, p):\n",
        "  plt.plot(q[:, ], p[:,], c = \"red\")\n",
        "  plt.xlabel('q')\n",
        "  plt.ylabel('p')\n",
        "\n",
        "plt.figure(figsize = (4, 4))\n",
        "\n",
        "pred_plot(q=z[:,0], p=z[:,1])\n",
        "\n",
        "grand_truth_plot()\n",
        "plt.show()\n",
        "\"\"\""
      ]
    },
    {
      "cell_type": "code",
      "execution_count": null,
      "metadata": {
        "id": "WxmplhJOBiBe"
      },
      "outputs": [],
      "source": [
        "def verlet(T, V, initial_point=[0., 1.], t_interval=[0.,2*np.math.pi], h=20):\n",
        "  t = np.linspace(t_interval[0], t_interval[1], h)\n",
        "  h = t[1] - t[0]\n",
        "\n",
        "  q = np.zeros(t.shape[0])\n",
        "  p = np.zeros(t.shape[0])\n",
        "\n",
        "  q[0] = initial_point[0]\n",
        "  p[0] = initial_point[1]\n",
        "\n",
        "  # Derivative of Potential Energy\n",
        "  def dV(q_0=tf.constant(1.0)):\n",
        "    q_0 = tf.constant(q_0)\n",
        "    with tf.GradientTape() as g:\n",
        "        g.watch(q_0)\n",
        "        y = V(q_0)\n",
        "    return g.gradient(y, q_0)\n",
        "\n",
        "  # Derivative of Kinetic Energy\n",
        "  def dT(p_0=tf.constant(1.0)):\n",
        "    p_0 = tf.constant(p_0)\n",
        "    with tf.GradientTape() as g:\n",
        "        g.watch(p_0)\n",
        "        y = T(p_0)\n",
        "    return g.gradient(y, p_0)\n",
        "  \n",
        "  for i in range(0 ,t.shape[0]-1):\n",
        "    ara_p = p[i] - (h/2) * dV(q[i])\n",
        "\n",
        "    q[i+1] = q[i] + (h) * (ara_p)\n",
        "\n",
        "    p[i+1] = ara_p - (h/2) * (q[i+1])\n",
        "  \n",
        "  z = np.concatenate((q.reshape(-1,1), p.reshape(-1,1)) , axis=1)\n",
        "  return T, V, z, t, t_interval, initial_point, h"
      ]
    },
    {
      "cell_type": "code",
      "execution_count": null,
      "metadata": {
        "id": "76aJxjhNqK01"
      },
      "outputs": [],
      "source": [
        "\"\"\"\n",
        "def T(p):\n",
        "  return (1/2)* p**2\n",
        "\n",
        "def V(q):\n",
        "  return (1/2) * q**2\n",
        "\"\"\""
      ]
    },
    {
      "cell_type": "code",
      "execution_count": null,
      "metadata": {
        "id": "Mcjg2lypzXBS"
      },
      "outputs": [],
      "source": [
        "\"\"\" \n",
        "T, V, z, t, t_interval, initial_point, h = verlet(T, V, initial_point=[0., 1.], t_interval=[0.,2*np.math.pi], h=10)\n",
        "\"\"\""
      ]
    },
    {
      "cell_type": "code",
      "execution_count": null,
      "metadata": {
        "id": "0rSJy4Pdzo5S"
      },
      "outputs": [],
      "source": [
        "\"\"\"\n",
        "def grand_truth_plot(h = 30):\n",
        "  t = np.linspace(0,2*np.pi,h)\n",
        "  q = np.sin(t)\n",
        "  p = np.cos(t)\n",
        "  plt.scatter(q,p)\n",
        "\n",
        "def pred_plot(q, p):\n",
        "  plt.plot(q[:, ], p[:,], c = \"red\")\n",
        "  plt.xlabel('q')\n",
        "  plt.ylabel('p')\n",
        "\n",
        "plt.figure(figsize = (4, 4))\n",
        "\n",
        "pred_plot(q=z[:,0], p=z[:,1])\n",
        "\n",
        "grand_truth_plot()\n",
        "plt.show()\n",
        "\"\"\""
      ]
    }
  ],
  "metadata": {
    "colab": {
      "private_outputs": true,
      "provenance": [],
      "include_colab_link": true
    },
    "kernelspec": {
      "display_name": ".venv",
      "language": "python",
      "name": "python3"
    },
    "language_info": {
      "codemirror_mode": {
        "name": "ipython",
        "version": 3
      },
      "file_extension": ".py",
      "mimetype": "text/x-python",
      "name": "python",
      "nbconvert_exporter": "python",
      "pygments_lexer": "ipython3",
      "version": "3.10.9"
    },
    "vscode": {
      "interpreter": {
        "hash": "292974fb8e15235db916f720d6cf7676fbe307d212c5bbccdb59ef021c263c8d"
      }
    }
  },
  "nbformat": 4,
  "nbformat_minor": 0
}