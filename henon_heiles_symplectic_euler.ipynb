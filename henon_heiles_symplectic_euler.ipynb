{
  "cells": [
    {
      "cell_type": "code",
      "execution_count": null,
      "metadata": {
        "id": "m9PGXDqpN6Mq"
      },
      "outputs": [],
      "source": [
        "import numpy as np\n",
        "import tensorflow as tf"
      ]
    },
    {
      "cell_type": "code",
      "execution_count": null,
      "metadata": {
        "id": "GUV0bP_dN6Ms"
      },
      "outputs": [],
      "source": [
        "def henon_heiles_symplectic_euler(T, V, initial_point=[0., 0., 0., 0.], t_interval=[0.,6*np.math.pi], h=6*np.math.pi/501):\n",
        "\n",
        "    t = np.linspace(t_interval[0], t_interval[1], h)\n",
        "    h = t[1]-t[0]\n",
        "    \n",
        "    px = np.zeros(t.shape[0])\n",
        "    py = np.zeros(t.shape[0])\n",
        "    x = np.zeros(t.shape[0])\n",
        "    y = np.zeros(t.shape[0])\n",
        "\n",
        "    x[0] = initial_point[0]\n",
        "    y[0] = initial_point[1]\n",
        "    px[0] = initial_point[2]\n",
        "    py[0] = initial_point[3]\n",
        "  \n",
        "    def dT(px_0=tf.constant(1.0), py_0=tf.constant(1.0)):\n",
        "        px_0 = tf.constant(px_0)\n",
        "        py_0 = tf.constant(py_0)\n",
        "        with tf.GradientTape() as g:\n",
        "            g.watch(px_0)\n",
        "            g.watch(py_0)\n",
        "            y = T(px_0, py_0)\n",
        "        return g.gradient(y, [px_0, py_0])\n",
        "\n",
        "    def dV(x_0=tf.constant(1.0), y_0=tf.constant(1.0)):\n",
        "        x_0 = tf.constant(x_0)\n",
        "        y_0 = tf.constant(y_0)\n",
        "        with tf.GradientTape() as g:\n",
        "            g.watch(x_0)\n",
        "            g.watch(y_0)\n",
        "            y = V(x_0,y_0)\n",
        "        return g.gradient(y, [x_0,y_0])\n",
        "    for i in range(0, t.shape[0]-1):\n",
        "\n",
        "        x[i + 1] = x[i] + h * dT(px[i], py[i])[0]\n",
        "        y[i + 1] = y[i] + h * dT(px[i], py[i])[1]\n",
        "\n",
        "        px[i + 1] = px[i] - h * dV(x[i+1], y[i+1])[0]\n",
        "        py[i + 1] = py[i] - h * dV(x[i+1], y[i+1])[1]\n",
        "  \n",
        "    z_0 = np.concatenate((x.reshape(-1,1), y.reshape(-1,1), px.reshape(-1,1), py.reshape(-1,1)) , axis=1)\n",
        "    t_0 = t\n",
        "    \"\"\"\n",
        "    z_1 = z_0 + tf.random.normal(z_0.shape, mean = 0, stddev=0.05, dtype=tf.float32)\n",
        "    z_1 = np.concatenate((z_0, z_1), axis=0)\n",
        "    t = np.concatenate((t,t_0), axis=0)\n",
        "\n",
        "    z_2 = z_0 + tf.random.normal(z_0.shape, mean = 0, stddev=0.01, dtype=tf.float32)\n",
        "    z_2 = np.concatenate((z_1, z_2), axis=0)\n",
        "    t = np.concatenate((t,t_0), axis=0)\n",
        "  \n",
        "    z_3 = z_0 + tf.random.normal(z_0.shape, mean = 0, stddev=0.05, dtype=tf.float32)\n",
        "    z_3 = np.concatenate((z_2, z_3), axis=0)\n",
        "    t = np.concatenate((t,t_0), axis=0)\n",
        "    \n",
        "    z_4 = z_0 + tf.random.normal(z_0.shape, mean = 0, stddev=0.03, dtype=tf.float32)\n",
        "    z_4 = np.concatenate((z_3, z_4), axis=0)\n",
        "    t = np.concatenate((t,t_0), axis=0)\n",
        "\n",
        "    z_5 = z_0 + tf.random.normal(z_0.shape, mean = 0, stddev=0.05, dtype=tf.float32)\n",
        "    z_5 = np.concatenate((z_4, z_5), axis=0)\n",
        "    t = np.concatenate((t,t_0), axis=0)\n",
        "  \n",
        "    z_6 = z_0 + tf.random.normal(z_0.shape, mean = 0, stddev=0.06, dtype=tf.float32)\n",
        "    z_6 = np.concatenate((z_5, z_6), axis=0)\n",
        "    t = np.concatenate((t,t_0), axis=0)\n",
        "\n",
        "    z_7 = z_0 + tf.random.normal(z_0.shape, mean = 0, stddev=0.05, dtype=tf.float32)\n",
        "    z_7 = np.concatenate((z_6, z_7), axis=0)\n",
        "    t = np.concatenate((t,t_0), axis=0)\n",
        "\n",
        "    z_8 = z_0 + tf.random.normal(z_0.shape, mean = 0, stddev=0.01, dtype=tf.float32)\n",
        "    z_8 = np.concatenate((z_7, z_8), axis=0)\n",
        "    t = np.concatenate((t,t_0), axis=0)\n",
        "    \"\"\"\n",
        "    return T, V, z_0, t, t_interval, initial_point, h, z_0, t_0"
      ]
    },
    {
      "cell_type": "code",
      "execution_count": null,
      "metadata": {
        "id": "68lo_mrWN6Mt"
      },
      "outputs": [],
      "source": []
    }
  ],
  "metadata": {
    "kernelspec": {
      "display_name": "Python 3.10.5 64-bit",
      "language": "python",
      "name": "python3"
    },
    "language_info": {
      "codemirror_mode": {
        "name": "ipython",
        "version": 3
      },
      "file_extension": ".py",
      "mimetype": "text/x-python",
      "name": "python",
      "nbconvert_exporter": "python",
      "pygments_lexer": "ipython3",
      "version": "3.10.5"
    },
    "orig_nbformat": 4,
    "vscode": {
      "interpreter": {
        "hash": "d9cb76912a2c5be82dcfe6128b100f744e99764f9edd0e9b558a5e3f5600e50b"
      }
    },
    "colab": {
      "provenance": []
    }
  },
  "nbformat": 4,
  "nbformat_minor": 0
}