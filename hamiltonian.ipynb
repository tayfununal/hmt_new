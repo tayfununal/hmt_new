{
  "cells": [
    {
      "cell_type": "markdown",
      "metadata": {
        "id": "view-in-github",
        "colab_type": "text"
      },
      "source": [
        "<a href=\"https://colab.research.google.com/github/tayfununal/hmt_new/blob/main/hamiltonian.ipynb\" target=\"_parent\"><img src=\"https://colab.research.google.com/assets/colab-badge.svg\" alt=\"Open In Colab\"/></a>"
      ]
    },
    {
      "cell_type": "code",
      "execution_count": null,
      "id": "jMbT-c68zxI8",
      "metadata": {
        "id": "jMbT-c68zxI8"
      },
      "outputs": [],
      "source": [
        "#!git clone https://github.com/tayfununal/hamiltonian.git"
      ]
    },
    {
      "cell_type": "code",
      "execution_count": null,
      "id": "ca7923d7",
      "metadata": {
        "id": "ca7923d7"
      },
      "outputs": [],
      "source": [
        "# Required packages\n",
        "\"\"\"\n",
        "import numpy as np\n",
        "import matplotlib.pyplot as plt\n",
        "\n",
        "import tensorflow as tf\n",
        "from tensorflow.keras import Input, Model\n",
        "from tensorflow.keras.layers import Dense\n",
        "\"\"\"\n",
        "plt.style.use('seaborn-poster')"
      ]
    },
    {
      "cell_type": "code",
      "execution_count": null,
      "id": "9cd9782e",
      "metadata": {
        "id": "9cd9782e"
      },
      "outputs": [],
      "source": [
        "class Hamiltonian:\n",
        "    \"Energy preserved neural network\"\n",
        "    def __init__(self, solver, input_dim, output_dim, hidden_layer, each_neuron, activation_func, epoch,\n",
        "                     batch_size, learning_rate, h_for_t_created):\n",
        "        \n",
        "        self.T, self.V, self.z, self.t, self.t_interval, self.initial_point, self.h = solver\n",
        "\n",
        "        # Neural Network Model with MSE Loss\n",
        "        self.model = self.NN(inputs =input_dim, output=output_dim, hidden_layer=hidden_layer, neuron=each_neuron,\n",
        "                                     activation=activation_func)\n",
        "        self.model_train = self.train(model=self.model, inputs=self.t, target=self.z, learning_rate=learning_rate,\n",
        "                                    batch_size=batch_size, epochs=epoch)\n",
        "        \n",
        "        #Neural Network Model with Energy Preserved Loss\n",
        "        \n",
        "        self.energy_model = self.NN(inputs= input_dim,output=output_dim, hidden_layer=hidden_layer, neuron=each_neuron,\n",
        "                                        activation=activation_func)\n",
        "\n",
        "        # Parametreleri atama ve veri arttırma\n",
        "        self.energy_model.set_weights(self.model_train.get_weights())\n",
        "        t_created = np.linspace(float(self.t_interval[0]), float(self.t_interval[1]), h_for_t_created)\n",
        "        target_created = self.model_train(t_created)\n",
        "        \n",
        "        self.energy_model_train = self.train(model=self.energy_model, inputs=t_created, target=target_created,\n",
        "                                             learning_rate=learning_rate, loss=self.custom_loss, batch_size=batch_size,\n",
        "                                             epochs=epoch)\n",
        "    \n",
        "    # Hamiltonian function\n",
        "\n",
        "    def H(self, T, V, q, p):\n",
        "        return T(p) + V(q)\n",
        "\n",
        "    # Neural network with MSE loss\n",
        "    def NN(self, inputs, output, hidden_layer, neuron, activation=\"relu\"):\n",
        "        #np.random.seed(1)\n",
        "        #tf.random.set_seed(1)\n",
        "        \n",
        "        inp = Input(shape=(inputs,), name= \"Input_Layer\")\n",
        "        for i in range(0, hidden_layer):\n",
        "            if i == 0:\n",
        "                x = Dense(neuron, activation=activation, name=\"Hidden_Layer_{}\".format(i+1))(inp)\n",
        "            else:\n",
        "                x = Dense(neuron, activation=activation, name=\"Hidden_Layer_{}\".format(i+1))(x)\n",
        "        x = Dense(output, name=\"Output_Layer\")(x)\n",
        "\n",
        "        out = tf.constant([[self.initial_point[0],self.initial_point[1]]],\n",
        "                              dtype=tf.float32) + (1-tf.math.exp(-inp**2)) * x\n",
        "\n",
        "        return Model(inputs=inp, outputs=out)\n",
        "\n",
        "    # Neural Network Model Compile and Fit\n",
        "    def train(self, model, inputs, target, learning_rate=0.0003, loss=\"mse\", batch_size=32, epochs=1000):\n",
        "        \n",
        "        opt = tf.keras.optimizers.Adam(learning_rate=learning_rate)\n",
        "        model.compile(optimizer=opt, loss=loss)\n",
        "        model.fit(x=inputs, y=target, epochs=epochs, batch_size=batch_size, shuffle=True, verbose=True)\n",
        "        \n",
        "        return model\n",
        "\n",
        "    def custom_loss(self, y_true, y_pred):\n",
        "        return tf.keras.losses.MSE(self.H(self.T, self.V, self.initial_point[0],self.initial_point[1]), self.H(self.T, self.V, y_pred[None,:,0], y_pred[None, :,1])) +  0.001 * tf.keras.losses.MSE(y_true,y_pred)\n"
      ]
    },
    {
      "cell_type": "code",
      "execution_count": null,
      "id": "cf358a16",
      "metadata": {
        "id": "cf358a16",
        "outputId": "14a23690-4b8c-4581-825e-2c87489d3a6d",
        "colab": {
          "base_uri": "https://localhost:8080/",
          "height": 87
        }
      },
      "outputs": [
        {
          "output_type": "execute_result",
          "data": {
            "text/plain": [
              "'\\ndef T(p):\\n    return (p**2)/2\\n\\ndef V(q):\\n    return (q**2)/2\\n\\nmodel = Hamiltonian(solver=symplectic_euler(T, V, initial_point=[0.,1.], t_interval=[0,2*np.pi], h=0.5), input_dim=1, output_dim=2,\\n            hidden_layer=20, each_neuron=64, activation_func=tf.math.sin, epoch=2000 ,batch_size=100000000, learning_rate=0.0002, h_for_t_created=0.001)\\n\\n\\nplt.figure(figsize = (4, 4))\\n\\ntest_t = np.arange(0,2*np.pi,0.01)\\nprediction_energy = model.energy_model_train(test_t)\\nprediction_mse = model.model_train(test_t)\\n\\n# grand-truth\\nplt.scatter(tf.math.sin(np.arange(0.,2*np.pi,0.3)), tf.math.cos(np.arange(0.,2*np.pi,0.3)), c=\"green\")\\n# symplectic euler\\nplt.plot(model.z[:,0], model.z[:,1])\\n# NN with mse\\nplt.plot(prediction_mse[:,0], prediction_mse[:,1])\\n# NN with energy loss\\nplt.plot(prediction_energy[:,0], prediction_energy[:,1], c=\"red\")\\n'"
            ],
            "application/vnd.google.colaboratory.intrinsic+json": {
              "type": "string"
            }
          },
          "metadata": {},
          "execution_count": 8
        }
      ],
      "source": [
        "\"\"\"\n",
        "def T(p):\n",
        "    return (p**2)/2\n",
        "\n",
        "def V(q):\n",
        "    return (q**2)/2\n",
        "\n",
        "model = Hamiltonian(solver=symplectic_euler(T, V, initial_point=[0.,1.], t_interval=[0,2*np.pi], h=0.5), input_dim=1, output_dim=2,\n",
        "            hidden_layer=20, each_neuron=64, activation_func=tf.math.sin, epoch=2000 ,batch_size=100000000, learning_rate=0.0002, h_for_t_created=0.001)\n",
        "\n",
        "\n",
        "plt.figure(figsize = (4, 4))\n",
        "\n",
        "test_t = np.arange(0,2*np.pi,0.01)\n",
        "prediction_energy = model.energy_model_train(test_t)\n",
        "prediction_mse = model.model_train(test_t)\n",
        "\n",
        "# grand-truth\n",
        "plt.scatter(tf.math.sin(np.arange(0.,2*np.pi,0.3)), tf.math.cos(np.arange(0.,2*np.pi,0.3)), c=\"green\")\n",
        "# symplectic euler\n",
        "plt.plot(model.z[:,0], model.z[:,1])\n",
        "# NN with mse\n",
        "plt.plot(prediction_mse[:,0], prediction_mse[:,1])\n",
        "# NN with energy loss\n",
        "plt.plot(prediction_energy[:,0], prediction_energy[:,1], c=\"red\")\n",
        "\"\"\""
      ]
    }
  ],
  "metadata": {
    "colab": {
      "provenance": [],
      "include_colab_link": true
    },
    "gpuClass": "standard",
    "kernelspec": {
      "display_name": "Python 3.10.5 64-bit",
      "language": "python",
      "name": "python3"
    },
    "language_info": {
      "codemirror_mode": {
        "name": "ipython",
        "version": 3
      },
      "file_extension": ".py",
      "mimetype": "text/x-python",
      "name": "python",
      "nbconvert_exporter": "python",
      "pygments_lexer": "ipython3",
      "version": "3.10.5"
    },
    "vscode": {
      "interpreter": {
        "hash": "d9cb76912a2c5be82dcfe6128b100f744e99764f9edd0e9b558a5e3f5600e50b"
      }
    }
  },
  "nbformat": 4,
  "nbformat_minor": 5
}