{
  "nbformat": 4,
  "nbformat_minor": 0,
  "metadata": {
    "colab": {
      "private_outputs": true,
      "provenance": [],
      "include_colab_link": true
    },
    "kernelspec": {
      "name": "python3",
      "display_name": "Python 3"
    },
    "language_info": {
      "name": "python"
    }
  },
  "cells": [
    {
      "cell_type": "markdown",
      "metadata": {
        "id": "view-in-github",
        "colab_type": "text"
      },
      "source": [
        "<a href=\"https://colab.research.google.com/github/tayfununal/hamiltonian/blob/main/henon_heiles_verlet.ipynb\" target=\"_parent\"><img src=\"https://colab.research.google.com/assets/colab-badge.svg\" alt=\"Open In Colab\"/></a>"
      ]
    },
    {
      "cell_type": "code",
      "execution_count": null,
      "metadata": {
        "id": "BHmxEU5_Evfp"
      },
      "outputs": [],
      "source": [
        "import numpy as np\n",
        "import tensorflow as tf"
      ]
    },
    {
      "cell_type": "code",
      "source": [
        "def henon_heiles_verlet(T, V, initial_point=[0., 0., 0., 0.], t_interval=[0.,6*np.math.pi], h=6*np.math.pi/501):\n",
        "  \n",
        "  t = np.linspace(t_interval[0], t_interval[1], h)\n",
        "  h = t[1] - t[0]\n",
        "\n",
        "  q = np.zeros((t.shape[0], 2))\n",
        "  p = np.zeros((t.shape[0], 2))\n",
        "\n",
        "  # Derivative of Potential Energy\n",
        "  def dV(x):\n",
        "    x=tf.Variable([x[0],x[1]])\n",
        "    with tf.GradientTape() as g:\n",
        "        g.watch(x)\n",
        "        y = V(x)\n",
        "\n",
        "    return g.gradient(y, x)\n",
        "\n",
        "  # Derivative of Kinetic Energy\n",
        "  def dT(p):\n",
        "    p=tf.Variable([p[0],p[1]])\n",
        "    with tf.GradientTape() as g:\n",
        "      g.watch(p)\n",
        "      y = T(p)\n",
        "\n",
        "    return g.gradient(y, p)\n",
        "\n",
        "\n",
        "  q[0] = [initial_point[0],initial_point[1]]\n",
        "  p[0] = [initial_point[2],initial_point[3]]\n",
        "  \n",
        "  for i in range(0 ,t.shape[0]-1):\n",
        "    ara_p = p[i] - (h/2) * tf.transpose(dV(q[i]))\n",
        "\n",
        "    q[i+1] = q[i] + (h) * (ara_p)\n",
        "\n",
        "    p[i+1] = ara_p - (h/2) * tf.transpose(dV(q[i+1]))\n",
        "  \n",
        "  z_0 = np.concatenate((q, p) , axis=1)\n",
        "  t_0 = t\n",
        "\n",
        "  \"\"\"\n",
        "  z_1 = z_0 + tf.random.normal(z_0.shape, mean = 0, stddev=0.01, dtype=tf.float32)\n",
        "  z_1 = np.concatenate((z_0, z_1), axis=0)\n",
        "  t = np.concatenate((t, t_0), axis=0)\n",
        "\n",
        "  z_2 = z_0 + tf.random.normal(z_0.shape, mean = 0, stddev=0.01, dtype=tf.float32)\n",
        "  z_2 = np.concatenate((z_1, z_2), axis=0)\n",
        "  t = np.concatenate((t,t_0), axis=0)\n",
        "  \"\"\"\n",
        "  return T, V, z_0, t, t_interval, initial_point, h, z_0, t_0"
      ],
      "metadata": {
        "id": "0YonepIgEz_F"
      },
      "execution_count": null,
      "outputs": []
    },
    {
      "cell_type": "code",
      "source": [
        "\"\"\"\n",
        "def hh_T(p):\n",
        "  return 0.5*(p[0]**2 + p[1]**2)\n",
        "\n",
        "def hh_V(x):\n",
        "  return 0.5*(x[0]**2 + x[1]**2) + ((x[0]**2)*x[1] - (x[1]**3)/3)\n",
        "\n",
        "T, V, z, t, t_interval, initial_point, h = henon_heiles_symplectic_euler(hh_T, hh_V, initial_point=[0.3, -0.3, 0.3, 0.15], t_interval=[0.,6*np.math.pi], h=150)\n",
        "\n",
        "import matplotlib.pyplot as plt\n",
        "plt.plot(z[:,0], z[:,1] )\n",
        "\"\"\""
      ],
      "metadata": {
        "id": "oF1UUUomFI8Q"
      },
      "execution_count": null,
      "outputs": []
    }
  ]
}